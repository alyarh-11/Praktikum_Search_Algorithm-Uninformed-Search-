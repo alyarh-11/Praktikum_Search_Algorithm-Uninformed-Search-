{
  "nbformat": 4,
  "nbformat_minor": 0,
  "metadata": {
    "colab": {
      "provenance": [],
      "authorship_tag": "ABX9TyN/XW4wuRHJfS568ngmq7Pt",
      "include_colab_link": true
    },
    "kernelspec": {
      "name": "python3",
      "display_name": "Python 3"
    },
    "language_info": {
      "name": "python"
    }
  },
  "cells": [
    {
      "cell_type": "markdown",
      "metadata": {
        "id": "view-in-github",
        "colab_type": "text"
      },
      "source": [
        "<a href=\"https://colab.research.google.com/github/alyarh-11/Praktikum_Search_Algorithm-Uninformed-Search-/blob/main/2306063_Alya_Rahmawatai_DFS.ipynb\" target=\"_parent\"><img src=\"https://colab.research.google.com/assets/colab-badge.svg\" alt=\"Open In Colab\"/></a>"
      ]
    },
    {
      "cell_type": "code",
      "source": [
        "from collections import defaultdict\n",
        "\n",
        "class Graph:\n",
        "  def __init__(self):\n",
        "    self.graph = defaultdict(list)\n",
        "\n",
        "  def addEdge(self, u, v):\n",
        "    self.graph[u].append(v)\n",
        "\n",
        "  def DFSUtil(self, v, visited):\n",
        "     visited.add(v)\n",
        "     print(v, end=' ')\n",
        "\n",
        "     for neighbour in self.graph[v]:\n",
        "      if neighbour not in visited:\n",
        "        self.DFSUtil(neighbour, visited)\n",
        "\n",
        "  def DFS(self, v):\n",
        "    visited = set()\n",
        "    self.DFSUtil(v, visited)\n",
        "\n",
        "if __name__ == \"__main__\":\n",
        "   g = Graph()\n",
        "   g.addEdge(0, 1)\n",
        "   g.addEdge(0, 2)\n",
        "   g.addEdge(1, 2)\n",
        "   g.addEdge(2, 0)\n",
        "   g.addEdge(2, 3)\n",
        "   g.addEdge(3, 3)\n",
        "\n",
        "   print(\"Berikut adalah Penelusuran Depth First (dimulai dari node 2)\")\n",
        "\n",
        "   g.DFS(2)"
      ],
      "metadata": {
        "colab": {
          "base_uri": "https://localhost:8080/"
        },
        "id": "nglw94KcwRU0",
        "outputId": "f9dcfcdb-b941-462e-c9a9-cd3c8a0ece58"
      },
      "execution_count": null,
      "outputs": [
        {
          "output_type": "stream",
          "name": "stdout",
          "text": [
            "Berikut adalah Penelusuran Depth First (dimulai dari node 2)\n",
            "2 0 1 3 "
          ]
        }
      ]
    }
  ]
}