{
  "nbformat": 4,
  "nbformat_minor": 0,
  "metadata": {
    "colab": {
      "provenance": [],
      "authorship_tag": "ABX9TyPFBQiSgAVO/KPQLWN7Y35Z",
      "include_colab_link": true
    },
    "kernelspec": {
      "name": "python3",
      "display_name": "Python 3"
    },
    "language_info": {
      "name": "python"
    }
  },
  "cells": [
    {
      "cell_type": "markdown",
      "metadata": {
        "id": "view-in-github",
        "colab_type": "text"
      },
      "source": [
        "<a href=\"https://colab.research.google.com/github/alyarh-11/Praktikum_Search_Algorithm-Uninformed-Search-/blob/main/2306063_Alya_Rhmawati_BFS.ipynb\" target=\"_parent\"><img src=\"https://colab.research.google.com/assets/colab-badge.svg\" alt=\"Open In Colab\"/></a>"
      ]
    },
    {
      "cell_type": "code",
      "execution_count": 1,
      "metadata": {
        "id": "8zyFiznqrc_1",
        "colab": {
          "base_uri": "https://localhost:8080/"
        },
        "outputId": "b15b45ab-b34f-4e16-e070-a4e7bba105c6"
      },
      "outputs": [
        {
          "output_type": "stream",
          "name": "stdout",
          "text": [
            "Following is Breadth First Traversal: \n",
            "0 1 2 3 "
          ]
        }
      ],
      "source": [
        "import collections\n",
        "\n",
        "def bfs(graph, root):\n",
        "  visited, queue = set(), collections.deque([root])\n",
        "  visited.add(root)\n",
        "\n",
        "  while queue:\n",
        "    vertex = queue.popleft()\n",
        "    print(str(vertex) + \" \", end=\"\")\n",
        "\n",
        "    for neighbour in graph[vertex]:\n",
        "      if neighbour not in visited:\n",
        "        visited.add(neighbour)\n",
        "        queue.append(neighbour)\n",
        "\n",
        "if __name__ == '__main__':\n",
        "  graph = {0: [1,2], 1: [2], 2: [3], 3: [1,2]}\n",
        "  print(\"Following is Breadth First Traversal: \")\n",
        "  bfs(graph, 0)"
      ]
    }
  ]
}